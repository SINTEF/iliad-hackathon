{
 "cells": [
  {
   "cell_type": "markdown",
   "id": "7be2d8fe-482a-489d-be51-f7f6c546a861",
   "metadata": {},
   "source": [
    "# Heatmap/Hittable over Latitudes from Ferrybox\n",
    "\n",
    "In this notebook, we \n",
    "\n",
    "1. Load ferrybox data from a single journey from the MS Color Fantasy\n",
    "2. Create latitude grid in the Oslofjord\n",
    "3. Map cholorphyll measurements from the ferrybox into the target grid\n",
    "\n",
    "We do this for a single journey."
   ]
  },
  {
   "cell_type": "markdown",
   "id": "4b786341-be26-46b7-a5f0-eeb7c2c2f36c",
   "metadata": {},
   "source": [
    "## Preliminaries"
   ]
  },
  {
   "cell_type": "code",
   "execution_count": 1,
   "id": "ed4d799d-1462-492c-8943-756a0164ec19",
   "metadata": {},
   "outputs": [],
   "source": [
    "%matplotlib inline"
   ]
  },
  {
   "cell_type": "code",
   "execution_count": 2,
   "id": "f13ca8d2-8923-4144-9749-4ca91c123950",
   "metadata": {},
   "outputs": [],
   "source": [
    "import matplotlib.pyplot as plt\n",
    "import numpy as np\n",
    "import xarray as xr"
   ]
  },
  {
   "cell_type": "markdown",
   "id": "d189b15a-bb0e-49d8-9445-4bb62bbdda00",
   "metadata": {},
   "source": [
    "## Load Data, Define Oslofjord Grid, Populate the Hittable"
   ]
  },
  {
   "cell_type": "code",
   "execution_count": 3,
   "id": "fbefe5c4-23b1-4cdc-bfc1-3c3e38f68c23",
   "metadata": {},
   "outputs": [],
   "source": [
    "# setup target coords\n",
    "lat_lo = 59.4\n",
    "lat_hi = 59.95\n",
    "lat_range = np.mgrid[lat_lo:lat_hi:32j]"
   ]
  },
  {
   "cell_type": "code",
   "execution_count": 4,
   "id": "c939137b-664a-415f-9f4c-5ba931442251",
   "metadata": {},
   "outputs": [],
   "source": [
    "# load ferrybox trajectories\n",
    "def _load_trajectories(date='2024-06-02'):\n",
    "    url = \"https://thredds.niva.no/thredds/dodsC/datasets/nrt/color_fantasy.nc\"\n",
    "    ds = xr.open_dataset(url, engine='netcdf4')\n",
    "    # tlo = '2024-06-01T1200'\n",
    "    # thi = '2024-06-02T1200'\n",
    "    tlo = \"%sT0000\" % date\n",
    "    thi = \"%sT2359\" % date\n",
    "    ds = ds.sel(time=slice(tlo, thi))\n",
    "    return ds.latitude.values, ds.chlorophyll.values\n",
    "    \n",
    "lats, chl = _load_trajectories()"
   ]
  },
  {
   "cell_type": "code",
   "execution_count": 5,
   "id": "06200e9b-09fb-4e03-87a8-67bb62924018",
   "metadata": {},
   "outputs": [
    {
     "name": "stderr",
     "output_type": "stream",
     "text": [
      "/Users/volkerh/miniforge3/envs/iliad/lib/python3.12/site-packages/numpy/core/fromnumeric.py:3504: RuntimeWarning: Mean of empty slice.\n",
      "  return _methods._mean(a, axis=axis, dtype=dtype,\n",
      "/Users/volkerh/miniforge3/envs/iliad/lib/python3.12/site-packages/numpy/core/_methods.py:129: RuntimeWarning: invalid value encountered in scalar divide\n",
      "  ret = ret.dtype.type(ret / rcount)\n"
     ]
    }
   ],
   "source": [
    "def _map_measurements(source_coords, source_measurements, target_coords):\n",
    "    # target_measurements = len(target_coords) * [ [ ] ]  # DON'T DO THIS, cf. https://stackoverflow.com/q/41770791/21124232\n",
    "    target_measurements = [[] for _ in range(len(target_coords))]\n",
    "    for kk in range(len(source_coords)):\n",
    "        source_coord = source_coords[kk]\n",
    "        source_measurement = source_measurements[kk]\n",
    "        idx = np.argmin(np.abs(target_coords - source_coord))\n",
    "        target_measurements[idx].append(source_measurement)\n",
    "    return target_measurements\n",
    "    \n",
    "chl_on_lat_range = _map_measurements(lats, chl, lat_range)\n",
    "chl_on_lat_range = [ np.mean(x) for x in chl_on_lat_range ]  # average"
   ]
  },
  {
   "cell_type": "markdown",
   "id": "6525c2e9-6b41-41a1-b7ad-9ab7132c893c",
   "metadata": {},
   "source": [
    "## Show Results"
   ]
  },
  {
   "cell_type": "code",
   "execution_count": 6,
   "id": "d1a7cc80-00b5-443f-8193-3be08e8fb98b",
   "metadata": {},
   "outputs": [
    {
     "data": {
      "image/png": "[encoded data removed]",
      "text/plain": [
       "<Figure size 640x480 with 1 Axes>"
      ]
     },
     "metadata": {},
     "output_type": "display_data"
    }
   ],
   "source": [
    "plt.step(chl_on_lat_range, lat_range)\n",
    "plt.ylabel('Latitude')\n",
    "plt.xlabel('Mass Concentration of Chlorophyll A in Sea Water (mg/m^3)')\n",
    "pass"
   ]
  },
  {
   "cell_type": "code",
   "execution_count": null,
   "id": "f5d7b77e-6b6c-4d07-9159-112b365c7753",
   "metadata": {},
   "outputs": [],
   "source": []
  }
 ],
 "metadata": {
  "kernelspec": {
   "display_name": "Python 3 (ipykernel)",
   "language": "python",
   "name": "python3"
  },
  "language_info": {
   "codemirror_mode": {
    "name": "ipython",
    "version": 3
   },
   "file_extension": ".py",
   "mimetype": "text/x-python",
   "name": "python",
   "nbconvert_exporter": "python",
   "pygments_lexer": "ipython3",
   "version": "3.12.6"
  }
 },
 "nbformat": 4,
 "nbformat_minor": 5
}
