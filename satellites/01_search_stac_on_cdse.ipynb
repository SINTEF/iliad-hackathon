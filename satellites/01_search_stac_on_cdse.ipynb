{
 "cells": [
  {
   "cell_type": "markdown",
   "id": "be53ccc2-4d2b-409e-b6ca-57982f2797d2",
   "metadata": {},
   "source": [
    "# How to use STAC on the Copernicus Data Space\n",
    "\n",
    "We're looking for Sentinel-3 OLCI L2 Chlorophyill for Lofoten in June 3, 2019.\n",
    "\n",
    "In this notebook, we'll demo how to\n",
    "\n",
    "1. Use `Pystac-client`\n",
    "2. Hit the Copernicus STAC Catalog\n",
    "3. Search for relevant Sentinel-3 tiles (products) for a given time/location\n",
    "\n",
    "Further reading on STAC and the Copernicus Data Space:\n",
    "\n",
    "- https://documentation.dataspace.copernicus.eu/APIs/STAC.html\n",
    "- https://pystac-client.readthedocs.io/en/stable/quickstart.html\n",
    "- https://medium.com/rotten-grapes/download-sentinel-data-within-seconds-in-python-8cc9a8c3e23c\n",
    "\n",
    "Further reading about Sentinel-3 and its products:\n",
    "\n",
    "- https://documentation.dataspace.copernicus.eu/Data/SentinelMissions/Sentinel3.html\n",
    "- https://sentiwiki.copernicus.eu/web/olci-products"
   ]
  },
  {
   "cell_type": "markdown",
   "id": "5e6023a6-96d0-42cf-8b5d-5407f10d6f09",
   "metadata": {},
   "source": [
    "## Preliminaries"
   ]
  },
  {
   "cell_type": "code",
   "execution_count": 1,
   "id": "d615fed7-2c3b-440b-afe3-1ed39ab71c7f",
   "metadata": {},
   "outputs": [],
   "source": [
    "# https://documentation.dataspace.copernicus.eu/APIs/STAC.html\n",
    "# https://medium.com/rotten-grapes/download-sentinel-data-within-seconds-in-python-8cc9a8c3e23c\n",
    "# https://pystac-client.readthedocs.io/en/stable/quickstart.html\n",
    "# https://pystac-client.readthedocs.io/en/stable/tutorials/item-search-intersects.html\n",
    "# https://pystac-client.readthedocs.io/en/stable/api.html#item-search"
   ]
  },
  {
   "cell_type": "code",
   "execution_count": 2,
   "id": "b1a0525c-3d3f-4612-a09a-eedb56a795f3",
   "metadata": {},
   "outputs": [],
   "source": [
    "import pprint\n",
    "\n",
    "from pystac_client import Client\n",
    "# from odc.stac import load\n",
    "# import odc.geo"
   ]
  },
  {
   "cell_type": "markdown",
   "id": "47e3c37d-ad97-43ce-b605-aa357be3e4a9",
   "metadata": {},
   "source": [
    "## Connect to the STAC Catalog, Retrieve Collections"
   ]
  },
  {
   "cell_type": "code",
   "execution_count": 3,
   "id": "aed96a18-697b-420f-8f70-ff5603549ca2",
   "metadata": {
    "scrolled": true
   },
   "outputs": [],
   "source": [
    "client = Client.open('https://catalogue.dataspace.copernicus.eu/stac')"
   ]
  },
  {
   "cell_type": "code",
   "execution_count": 4,
   "id": "c7047658-aeb4-4329-b0f0-8ea3d12c7f3a",
   "metadata": {},
   "outputs": [
    {
     "data": {
      "text/plain": [
       "[<CollectionClient id=COP-DEM>,\n",
       " <CollectionClient id=S2GLC>,\n",
       " <CollectionClient id=TERRAAQUA>,\n",
       " <CollectionClient id=SENTINEL-3>,\n",
       " <CollectionClient id=SENTINEL-5P>,\n",
       " <CollectionClient id=SENTINEL-1-RTC>,\n",
       " <CollectionClient id=SENTINEL-1>,\n",
       " <CollectionClient id=SMOS>,\n",
       " <CollectionClient id=LANDSAT-7>,\n",
       " <CollectionClient id=CCM>,\n",
       " <CollectionClient id=LANDSAT-5>,\n",
       " <CollectionClient id=LANDSAT-8>,\n",
       " <CollectionClient id=ENVISAT>,\n",
       " <CollectionClient id=SENTINEL-6>,\n",
       " <CollectionClient id=GLOBAL-MOSAICS>,\n",
       " <CollectionClient id=SENTINEL-2>]"
      ]
     },
     "execution_count": 4,
     "metadata": {},
     "output_type": "execute_result"
    }
   ],
   "source": [
    "list(client.get_all_collections())"
   ]
  },
  {
   "cell_type": "code",
   "execution_count": 5,
   "id": "45311936-6d92-4015-b522-fe9523a771b5",
   "metadata": {},
   "outputs": [],
   "source": [
    "collection = \"SENTINEL-3\""
   ]
  },
  {
   "cell_type": "markdown",
   "id": "d49c6738-e972-4886-bd2a-746a6119084c",
   "metadata": {},
   "source": [
    "## Query for Data for Given Day over Target Area"
   ]
  },
  {
   "cell_type": "code",
   "execution_count": 6,
   "id": "6da1ef82-8822-44b1-944b-2fe9dbd0adb0",
   "metadata": {},
   "outputs": [],
   "source": [
    "# https://documentation.dataspace.copernicus.eu/Data/SentinelMissions/Sentinel3.html\n",
    "# https://documentation.dataspace.copernicus.eu/APIs/STAC.html\n",
    "# https://sentiwiki.copernicus.eu/web/olci-products\n",
    "\n",
    "# https://catalogue.dataspace.copernicus.eu/stac/collections/SENTINEL-3/items?bbox=15.11,67.62,17.96,69.09&datetime=2019-06-03T00:00:00.000Z/2019-06-03T23:59:59.000Z\n",
    "#\n",
    "# https://catalogue.dataspace.copernicus.eu/stac/collections/SENTINEL-3/items?\n",
    "# bbox=15.11,67.62,17.96,69.09&\n",
    "# datetime=2019-06-03T00:00:00.000Z/2019-06-03T23:59:59.000Z\n",
    "\n",
    "# bbox = [12.667,67.751,17.281,69.380]\n",
    "bbox = [15.11, 67.62, 17.96, 69.09]\n",
    "dt = \"2019-06-03\"  # is expanded to 2019-06-03T00:00:00.000Z/2019-06-03T23:59:59.000Z"
   ]
  },
  {
   "cell_type": "code",
   "execution_count": 7,
   "id": "241dda7a-8b5a-4f72-8e33-410aac07418a",
   "metadata": {},
   "outputs": [],
   "source": [
    "# filter doesn't work right now, but cf.\n",
    "# https://pystac-client.readthedocs.io/en/latest/tutorials/cql2-filter.html\n",
    "# search = client.search(collections=[collection], bbox=bbox, datetime=dt, filter={\"op\": \"eq\", \"args\": [{\"property\": \"productType\"}, \"S2MSI1C\"]})\n",
    "\n",
    "# https://pystac-client.readthedocs.io/en/stable/tutorials/item-search-intersects.html\n",
    "# we can define a better geomery to make sure we only get relevant tiles\n",
    "\n",
    "# https://pystac-client.readthedocs.io/en/stable/api.html#item-search\n",
    "search = client.search(collections=[collection], bbox=bbox, datetime=dt)"
   ]
  },
  {
   "cell_type": "code",
   "execution_count": 8,
   "id": "98cf1b08-b103-4be8-bed4-0ada4409dd87",
   "metadata": {},
   "outputs": [],
   "source": [
    "# search.item_collection_as_dict()"
   ]
  },
  {
   "cell_type": "markdown",
   "id": "5a61d253-c725-4b30-bcfb-52b16d55a0ec",
   "metadata": {},
   "source": [
    "## Illustrates the kind of of metadata we retrieve from the STAC catalog"
   ]
  },
  {
   "cell_type": "code",
   "execution_count": 9,
   "id": "59c1dc0c-3e75-46ac-902e-54d10d8a63fb",
   "metadata": {},
   "outputs": [
    {
     "name": "stdout",
     "output_type": "stream",
     "text": [
      "{'assets': {'PRODUCT': {'alternate': {'s3': {'href': '/eodata/Sentinel-3/SYNERGY/SY_2_SYN___/2019/06/03/S3B_SY_2_SYN____20190603T092000_20190603T092300_20190604T223033_0179_026_093_1800_LN2_O_NT_002.SEN3',\n",
      "                                             'storage:platform': 'CLOUDFERRO',\n",
      "                                             'storage:region': 'waw',\n",
      "                                             'storage:requester_pays': False,\n",
      "                                             'storage:tier': 'Online'}},\n",
      "                        'href': 'https://catalogue.dataspace.copernicus.eu/odata/v1/Products(8463e19c-44de-5add-b882-688c4d088a88)/$value',\n",
      "                        'title': 'Product',\n",
      "                        'type': 'application/octet-stream'},\n",
      "            'QUICKLOOK': {'href': 'https://catalogue.dataspace.copernicus.eu/odata/v1/Assets(b6e168c9-be67-47f0-abd1-59423151cf95)/$value',\n",
      "                          'title': 'QUICKLOOK',\n",
      "                          'type': 'image/jpeg'}},\n",
      " 'bbox': [6.76902961730957,\n",
      "          59.98529815673828,\n",
      "          43.53880310058594,\n",
      "          73.37650299072266],\n",
      " 'collection': 'SENTINEL-3',\n",
      " 'geometry': {'coordinates': [[[6.76903, 62.9383],\n",
      "                               [8.10839, 62.8985],\n",
      "                               [9.47736, 62.8387],\n",
      "                               [10.8259, 62.7665],\n",
      "                               [12.1681, 62.6813],\n",
      "                               [13.4871, 62.5846],\n",
      "                               [14.8045, 62.4748],\n",
      "                               [16.1353, 62.3494],\n",
      "                               [17.4306, 62.2176],\n",
      "                               [18.7153, 62.0709],\n",
      "                               [19.9755, 61.9077],\n",
      "                               [21.2376, 61.7374],\n",
      "                               [22.484, 61.5558],\n",
      "                               [23.7371, 61.3609],\n",
      "                               [24.9537, 61.1568],\n",
      "                               [26.1575, 60.9413],\n",
      "                               [27.3245, 60.721],\n",
      "                               [28.4907, 60.4855],\n",
      "                               [29.6404, 60.2427],\n",
      "                               [30.7788, 59.9853],\n",
      "                               [33.2204, 62.426],\n",
      "                               [36.0788, 64.8226],\n",
      "                               [39.4649, 67.1595],\n",
      "                               [43.5388, 69.4143],\n",
      "                               [42.082, 69.7697],\n",
      "                               [40.573, 70.1098],\n",
      "                               [39.0174, 70.4394],\n",
      "                               [37.4322, 70.7493],\n",
      "                               [35.7766, 71.0507],\n",
      "                               [34.0752, 71.3362],\n",
      "                               [32.2945, 71.6089],\n",
      "                               [30.4897, 71.8626],\n",
      "                               [28.6345, 72.0993],\n",
      "                               [26.7684, 72.3209],\n",
      "                               [24.8303, 72.5208],\n",
      "                               [22.8455, 72.6992],\n",
      "                               [20.7953, 72.8634],\n",
      "                               [18.7484, 73.0031],\n",
      "                               [16.6566, 73.1227],\n",
      "                               [14.5341, 73.221],\n",
      "                               [12.4154, 73.2965],\n",
      "                               [10.2547, 73.3508],\n",
      "                               [8.12506, 73.3765],\n",
      "                               [7.81072, 70.7675],\n",
      "                               [7.47714, 68.1566],\n",
      "                               [7.12667, 65.5474],\n",
      "                               [6.76903, 62.9383]]],\n",
      "              'type': 'Polygon'},\n",
      " 'id': 'S3B_SY_2_SYN____20190603T092000_20190603T092300_20190604T223033_0179_026_093_1800_LN2_O_NT_002.SEN3',\n",
      " 'links': [{'href': 'https://catalogue.dataspace.copernicus.eu/stac',\n",
      "            'rel': 'root',\n",
      "            'type': 'application/json'},\n",
      "           {'href': 'https://catalogue.dataspace.copernicus.eu/stac/collections/SENTINEL-3/items/S3B_SY_2_SYN____20190603T092000_20190603T092300_20190604T223033_0179_026_093_1800_LN2_O_NT_002.SEN3',\n",
      "            'rel': 'self',\n",
      "            'type': 'application/json'},\n",
      "           {'href': 'https://catalogue.dataspace.copernicus.eu/stac/collections/SENTINEL-3',\n",
      "            'rel': 'collection',\n",
      "            'type': 'application/json'}],\n",
      " 'properties': {'authority': 'ESA',\n",
      "                'baselineCollection': '002',\n",
      "                'cloudCover': 70.769008,\n",
      "                'coordinates': '62.9383,6.76903 62.8985,8.10839 '\n",
      "                               '62.8387,9.47736 62.7665,10.8259 '\n",
      "                               '62.6813,12.1681 62.5846,13.4871 '\n",
      "                               '62.4748,14.8045 62.3494,16.1353 '\n",
      "                               '62.2176,17.4306 62.0709,18.7153 '\n",
      "                               '61.9077,19.9755 61.7374,21.2376 61.5558,22.484 '\n",
      "                               '61.3609,23.7371 61.1568,24.9537 '\n",
      "                               '60.9413,26.1575 60.721,27.3245 60.4855,28.4907 '\n",
      "                               '60.2427,29.6404 59.9853,30.7788 62.426,33.2204 '\n",
      "                               '64.8226,36.0788 67.1595,39.4649 '\n",
      "                               '69.4143,43.5388 69.7697,42.082 70.1098,40.573 '\n",
      "                               '70.4394,39.0174 70.7493,37.4322 '\n",
      "                               '71.0507,35.7766 71.3362,34.0752 '\n",
      "                               '71.6089,32.2945 71.8626,30.4897 '\n",
      "                               '72.0993,28.6345 72.3209,26.7684 '\n",
      "                               '72.5208,24.8303 72.6992,22.8455 '\n",
      "                               '72.8634,20.7953 73.0031,18.7484 '\n",
      "                               '73.1227,16.6566 73.221,14.5341 73.2965,12.4154 '\n",
      "                               '73.3508,10.2547 73.3765,8.12506 '\n",
      "                               '70.7675,7.81072 68.1566,7.47714 '\n",
      "                               '65.5474,7.12667 62.9383,6.76903',\n",
      "                'datetime': '2019-06-03T09:20:00.478000Z',\n",
      "                'end_datetime': '2019-06-03T09:23:00.478000Z',\n",
      "                'instrumentShortName': 'SYNERGY',\n",
      "                'operationalMode': 'Earth Observation',\n",
      "                'orbitDirection': 'DESCENDING',\n",
      "                'orbitNumber': 5755,\n",
      "                'platformSerialIdentifier': 'B',\n",
      "                'platformShortName': 'SENTINEL-3',\n",
      "                'processingLevel': '2',\n",
      "                'productType': 'SY_2_SYN___',\n",
      "                'relativeOrbitNumber': 93,\n",
      "                'start_datetime': '2019-06-03T09:20:00.478000Z',\n",
      "                'timeliness': 'NT'},\n",
      " 'stac_extensions': ['https://stac-extensions.github.io/alternate-assets/v1.1.0/schema.json',\n",
      "                     'https://stac-extensions.github.io/storage/v1.0.0/schema.json'],\n",
      " 'stac_version': '1.0.0',\n",
      " 'type': 'Feature'}\n"
     ]
    }
   ],
   "source": [
    "for kk, item in enumerate(search.items_as_dicts()):\n",
    "    if kk > 0:\n",
    "        break\n",
    "    pprint.pprint(item)\n",
    "    # print(item['id'])\n",
    "    # print(item['assets']['PRODUCT']['href'])\n",
    "    # print(item['properties']['cloudCover'])\n",
    "    # print(item['properties']['datetime'])"
   ]
  },
  {
   "cell_type": "markdown",
   "id": "9a3272d5-eb62-42cd-be9a-f3f55c8a92c6",
   "metadata": {},
   "source": [
    "## This is a lot... let's focus on the product types"
   ]
  },
  {
   "cell_type": "code",
   "execution_count": 10,
   "id": "a0b74a63-671a-40ab-a2b2-c701561aa567",
   "metadata": {},
   "outputs": [
    {
     "name": "stdout",
     "output_type": "stream",
     "text": [
      "SL_1_RBT___\n",
      "OL_2_WFR___\n",
      "OL_2_WRR___\n",
      "SY_2_SYN___\n",
      "SY_2_SYN___\n",
      "SY_2_SYN___\n",
      "OL_2_LFR___\n",
      "OL_2_LRR___\n",
      "SL_1_RBT___\n",
      "SL_1_RBT___\n",
      "OL_2_LFR___\n",
      "OL_2_LRR___\n",
      "OL_2_WFR___\n",
      "OL_2_WFR___\n",
      "OL_2_WRR___\n",
      "SR_2_WAT___\n",
      "OL_1_EFR___\n",
      "SL_1_RBT___\n",
      "OL_1_EFR___\n",
      "OL_1_EFR___\n",
      "OL_2_LFR___\n",
      "SL_1_RBT___\n",
      "SR_2_WAT___\n",
      "OL_1_ERR___\n",
      "SL_1_RBT___\n",
      "SL_2_LST___\n",
      "SL_2_LST___\n",
      "SY_2_VG1___\n",
      "SR_2_LAN_HY\n",
      "OL_2_LRR___\n",
      "SL_1_RBT___\n",
      "OL_1_EFR___\n",
      "OL_1_EFR___\n",
      "OL_2_LFR___\n",
      "SL_2_LST___\n",
      "SL_2_LST___\n",
      "SY_2_VGP___\n",
      "OL_2_LRR___\n",
      "SL_2_LST___\n",
      "SR_2_LAN_LI\n",
      "SL_2_LST___\n",
      "SL_2_LST___\n",
      "SL_2_LST___\n",
      "OL_2_LRR___\n",
      "SY_2_VGP___\n",
      "SL_1_RBT___\n",
      "SL_1_RBT___\n",
      "SL_2_WST___\n",
      "SL_2_WST___\n",
      "SL_2_LST___\n",
      "SL_2_LST___\n",
      "SL_2_WST___\n",
      "SR_2_WAT___\n",
      "SR_2_LAN___\n",
      "SR_1_SRA___\n",
      "SR_1_SRA_BS\n",
      "SR_1_SRA_A_\n",
      "SL_2_WST___\n",
      "SL_1_RBT___\n",
      "SL_2_WST___\n",
      "SR_1_SRA_BS\n",
      "SR_2_LAN___\n",
      "SR_1_SRA_BS\n",
      "SR_1_SRA_A_\n",
      "SL_1_RBT___\n",
      "SL_2_WST___\n",
      "SR_1_SRA_A_\n",
      "SY_2_VGP___\n",
      "SL_1_RBT___\n",
      "SL_2_LST___\n",
      "SL_2_LST___\n",
      "SY_2_VG1___\n"
     ]
    }
   ],
   "source": [
    "for kk, item in enumerate(search.items_as_dicts()):\n",
    "    print(item['properties']['productType'])"
   ]
  },
  {
   "cell_type": "markdown",
   "id": "9d6713f4-39d6-448d-b106-301a821332af",
   "metadata": {},
   "source": [
    "## Focus on OL_2_WFR___ product\n",
    "\n",
    "We can find a full list of the available products for Sentinel-3 here: https://sentiwiki.copernicus.eu/web/olci-products\n",
    "\n",
    "We're interested in the Level-2 Water Product at Full Resolution, i.e. **OL_2_WFR**.\n",
    "\n",
    "So we filter the return of our query.\n",
    "\n",
    "NB: If the CQL filter worked on the Copernicus Data Space, we could also filter for the product type in the original query. See https://pystac-client.readthedocs.io/en/latest/tutorials/cql2-filter.html."
   ]
  },
  {
   "cell_type": "code",
   "execution_count": 11,
   "id": "298157a5-1aa9-484e-8927-9cf0d3d88ba4",
   "metadata": {},
   "outputs": [],
   "source": [
    "href_OL_2_WFR = []\n",
    "href_quicklook = []\n",
    "date_time = []\n",
    "ids = []\n",
    "for kk, item in enumerate(search.items_as_dicts()):\n",
    "    # print(item['properties']['productType'])\n",
    "    if item['properties']['productType'] == 'OL_2_WFR___':\n",
    "        href_OL_2_WFR.append(item['assets']['PRODUCT']['href'])\n",
    "        href_quicklook.append(item['assets']['QUICKLOOK']['href'])\n",
    "        date_time.append(item['properties']['datetime'])\n",
    "        ids.append(item['id'])"
   ]
  },
  {
   "cell_type": "markdown",
   "id": "fc8e43ae-d96d-4e5a-9f02-2b117228778e",
   "metadata": {},
   "source": [
    "## Here are the IDs, download URLs, and quicklook URL\n",
    "\n",
    "You can use `curl` or `wget` to retrieve image at the quicklook URL. Or just click on it, for that matter.\n",
    "\n",
    "The full product requires authentication. See `./02_download_from_cdse.ipynb` for this."
   ]
  },
  {
   "cell_type": "code",
   "execution_count": 12,
   "id": "ea180ca6-482a-466a-b292-94592f7c6282",
   "metadata": {},
   "outputs": [
    {
     "data": {
      "text/plain": [
       "['S3B_OL_2_WFR____20190603T092000_20190603T092300_20190604T163226_0179_026_093_1800_MAR_O_NT_002.SEN3',\n",
       " 'S3B_OL_2_WFR____20190603T110100_20190603T110400_20190604T212247_0179_026_094_1800_MAR_O_NT_002.SEN3',\n",
       " 'S3A_OL_2_WFR____20190603T095937_20190603T100237_20190604T203202_0179_045_236_1800_MAR_O_NT_002.SEN3',\n",
       " 'S3A_OL_2_WFR____20190603T095937_20190603T100237_20190604T203202_0179_045_236_1800_MAR_O_NT_002.SEN3']"
      ]
     },
     "execution_count": 12,
     "metadata": {},
     "output_type": "execute_result"
    }
   ],
   "source": [
    "ids"
   ]
  },
  {
   "cell_type": "code",
   "execution_count": 13,
   "id": "61171f22-eb37-4ddf-bcb7-149a6e609599",
   "metadata": {},
   "outputs": [
    {
     "data": {
      "text/plain": [
       "['https://catalogue.dataspace.copernicus.eu/odata/v1/Products(e1dc976e-31e3-5b6f-a2a9-be0e701eed46)/$value',\n",
       " 'https://catalogue.dataspace.copernicus.eu/odata/v1/Products(180e0bcb-f1e4-5683-83ec-0ee8f3bf1b4e)/$value',\n",
       " 'https://catalogue.dataspace.copernicus.eu/odata/v1/Products(5e1c70ab-de2f-543e-a1e2-4a5e4c2569ec)/$value',\n",
       " 'https://catalogue.dataspace.copernicus.eu/odata/v1/Products(5e1c70ab-de2f-543e-a1e2-4a5e4c2569ec)/$value']"
      ]
     },
     "execution_count": 13,
     "metadata": {},
     "output_type": "execute_result"
    }
   ],
   "source": [
    "href_OL_2_WFR"
   ]
  },
  {
   "cell_type": "code",
   "execution_count": 14,
   "id": "f95bbdcf-1e49-45c4-a5d1-fb3c1f45a86b",
   "metadata": {},
   "outputs": [
    {
     "data": {
      "text/plain": [
       "['https://catalogue.dataspace.copernicus.eu/odata/v1/Assets(ca9ccc7b-dfec-423f-a075-83f232badc25)/$value',\n",
       " 'https://catalogue.dataspace.copernicus.eu/odata/v1/Assets(5616b495-a9cb-4723-8ad0-2d28f4aa25d7)/$value',\n",
       " 'https://catalogue.dataspace.copernicus.eu/odata/v1/Assets(f882baab-a74b-44ad-8932-1b75cd136dc8)/$value',\n",
       " 'https://catalogue.dataspace.copernicus.eu/odata/v1/Assets(f882baab-a74b-44ad-8932-1b75cd136dc8)/$value']"
      ]
     },
     "execution_count": 14,
     "metadata": {},
     "output_type": "execute_result"
    }
   ],
   "source": [
    "href_quicklook"
   ]
  },
  {
   "cell_type": "markdown",
   "id": "6a44ade8-4b84-485a-bc4f-48953823d793",
   "metadata": {},
   "source": [
    "## Bonus\n",
    "\n",
    "This is the full list of products available for the specified time and area of interest"
   ]
  },
  {
   "cell_type": "code",
   "execution_count": 15,
   "id": "c7d26b6f-0436-4e59-826e-9eb2f038030e",
   "metadata": {},
   "outputs": [
    {
     "data": {
      "text/plain": [
       "[<Item id=S3B_SY_2_SYN____20190603T110100_20190603T110400_20190604T184239_0179_026_094_1800_LN2_O_NT_002.SEN3>,\n",
       " <Item id=S3B_SY_2_SYN____20190603T092000_20190603T092300_20190604T223033_0179_026_093_1800_LN2_O_NT_002.SEN3>,\n",
       " <Item id=S3A_SY_2_SYN____20190603T095937_20190603T100237_20190604T233152_0179_045_236_1800_LN2_O_NT_002.SEN3>,\n",
       " <Item id=S3B_OL_2_LFR____20190603T110100_20190603T110400_20200219T053142_0179_026_094_1800_LR1_R_NT_002.SEN3>,\n",
       " <Item id=S3B_OL_2_LFR____20190603T092000_20190603T092300_20200219T053131_0179_026_093_1800_LR1_R_NT_002.SEN3>,\n",
       " <Item id=S3B_OL_2_LRR____20190603T105106_20190603T113531_20200219T164318_2665_026_094______LR1_R_NT_002.SEN3>,\n",
       " <Item id=S3A_OL_2_LRR____20190603T094944_20190603T103410_20190604T135434_2666_045_236______LN1_O_NT_002.SEN3>,\n",
       " <Item id=S3A_SL_1_RBT____20190603T095937_20190603T100237_20190604T152423_0179_045_236_1800_LN2_O_NT_003.SEN3>,\n",
       " <Item id=S3B_OL_2_WFR____20190603T092000_20190603T092300_20190604T163226_0179_026_093_1800_MAR_O_NT_002.SEN3>,\n",
       " <Item id=S3B_OL_2_WFR____20190603T110100_20190603T110400_20190604T212247_0179_026_094_1800_MAR_O_NT_002.SEN3>,\n",
       " <Item id=S3B_SL_1_RBT____20190603T191356_20190603T191656_20190604T233705_0180_026_099_1080_LN2_O_NT_003.SEN3>,\n",
       " <Item id=S3B_SL_1_RBT____20190603T205455_20190603T205755_20190605T011725_0179_026_100_1080_LN2_O_NT_003.SEN3>,\n",
       " <Item id=S3A_SL_1_RBT____20190603T195333_20190603T195633_20190605T012231_0179_045_242_1080_LN2_O_NT_003.SEN3>,\n",
       " <Item id=S3A_OL_2_WFR____20190603T095937_20190603T100237_20190604T203202_0179_045_236_1800_MAR_O_NT_002.SEN3>,\n",
       " <Item id=S3B_OL_2_WRR____20190603T105106_20190603T113531_20190604T180014_2665_026_094______MAR_O_NT_002.SEN3>,\n",
       " <Item id=S3A_OL_2_WRR____20190603T094944_20190603T103410_20190604T172135_2666_045_236______MAR_O_NT_002.SEN3>,\n",
       " <Item id=S3B_SR_2_WAT____20190603T191544_20190603T192454_20190603T215334_0550_026_099______MAR_O_NR_003.SEN3>,\n",
       " <Item id=S3A_OL_1_EFR____20190603T095937_20190603T100237_20190604T135426_0179_045_236_1800_LN1_O_NT_002.SEN3>,\n",
       " <Item id=S3B_OL_1_EFR____20190603T092000_20190603T092300_20190604T141347_0179_026_093_1800_LN1_O_NT_002.SEN3>,\n",
       " <Item id=S3B_OL_1_EFR____20190603T110100_20190603T110400_20190604T155610_0179_026_094_1800_LN1_O_NT_002.SEN3>,\n",
       " <Item id=S3A_OL_2_LFR____20190603T095937_20190603T100237_20190604T141606_0179_045_236_1800_LN1_O_NT_002.SEN3>,\n",
       " <Item id=S3B_SL_1_RBT____20190603T110100_20190603T110400_20200809T220913_0179_026_094_1800_LR1_R_NT_004.SEN3>,\n",
       " <Item id=S3A_SL_1_RBT____20190603T195333_20190603T195633_20210113T023400_0179_045_242_1080_LR1_R_NT_004.SEN3>,\n",
       " <Item id=S3B_SL_2_LST____20190603T191356_20190603T191656_20200823T143447_0179_026_099_1080_LR1_R_NT_004.SEN3>,\n",
       " <Item id=S3B_OL_2_LFR____20190603T110100_20190603T110400_20200219T053142_0179_026_094_1800_LR1_R_NT_002.SEN3>,\n",
       " <Item id=S3B_OL_2_LFR____20190603T092000_20190603T092300_20200219T053131_0179_026_093_1800_LR1_R_NT_002.SEN3>,\n",
       " <Item id=S3A_OL_2_LRR____20190603T094944_20190603T103410_20190604T135434_2666_045_236______LN1_O_NT_002.SEN3>,\n",
       " <Item id=S3B_OL_2_WFR____20190603T092000_20190603T092300_20190604T163226_0179_026_093_1800_MAR_O_NT_002.SEN3>,\n",
       " <Item id=S3A_OL_2_WFR____20190603T095937_20190603T100237_20190604T203202_0179_045_236_1800_MAR_O_NT_002.SEN3>,\n",
       " <Item id=S3A_OL_1_EFR____20190603T095937_20190603T100237_20190604T135426_0179_045_236_1800_LN1_O_NT_002.SEN3>,\n",
       " <Item id=S3B_OL_1_EFR____20190603T092000_20190603T092300_20200112T174633_0179_026_093_1800_MR1_R_NT_002.SEN3>,\n",
       " <Item id=S3B_SL_2_LST____20190603T110100_20190603T110400_20200820T084044_0179_026_094_1800_LR1_R_NT_004.SEN3>,\n",
       " <Item id=S3B_OL_2_LRR____20190603T091007_20190603T095432_20200219T164317_2665_026_093______LR1_R_NT_002.SEN3>,\n",
       " <Item id=S3B_SL_2_LST____20190603T105615_20190603T123714_20190604T165455_6059_026_094______LN2_O_NT_003.SEN3>,\n",
       " <Item id=S3B_SR_2_LAN_LI_20190603T190649_20190603T193134_20230411T034948_1484_026_099______LN3_R_NT_005.SEN3>,\n",
       " <Item id=S3B_SR_2_LAN_HY_20190603T185102_20190603T192110_20230411T035442_1808_026_099______LN3_R_NT_005.SEN3>,\n",
       " <Item id=S3A_SL_2_LST____20190603T195333_20190603T195633_20210429T013809_0179_045_242_1080_LR1_R_NT_004.SEN3>,\n",
       " <Item id=S3A_SL_2_LST____20190603T095937_20190603T100237_20210120T042404_0179_045_236_1800_LR1_R_NT_004.SEN3>,\n",
       " <Item id=S3B_SL_2_LST____20190603T092000_20190603T092300_20200820T083939_0179_026_093_1800_LR1_R_NT_004.SEN3>,\n",
       " <Item id=S3B_OL_2_WRR____20190603T091007_20190603T095432_20190604T144438_2665_026_093______MAR_O_NT_002.SEN3>,\n",
       " <Item id=S3B_OL_2_LRR____20190603T091007_20190603T095432_20200219T164317_2665_026_093______LR1_R_NT_002.SEN3>,\n",
       " <Item id=S3B_SR_2_LAN_LI_20190603T190649_20190603T193134_20230411T034948_1484_026_099______LN3_R_NT_005.SEN3>,\n",
       " <Item id=S3A_SL_2_LST____20190603T095452_20190603T113551_20190604T171158_6059_045_236______LN2_O_NT_003.SEN3>,\n",
       " <Item id=S3B_SL_2_LST____20190603T091515_20190603T105615_20190604T151835_6059_026_093______LN2_O_NT_003.SEN3>,\n",
       " <Item id=S3B_SL_2_WST____20190603T082443_20190603T100542_20190604T171339_6059_026_092______MAR_O_NT_003.SEN3>,\n",
       " <Item id=S3B_SL_2_WST____20190603T201138_20190603T215237_20190605T063351_6059_026_099______MAR_O_NT_003.SEN3>,\n",
       " <Item id=S3A_SL_2_WST____20190603T191015_20190603T205115_20190605T074532_6059_045_241______MAR_O_NT_003.SEN3>,\n",
       " <Item id=S3B_SY_2_VGP____20190603T105720_20190603T113531_20190604T163139_2291_026_094______LN2_O_NT_002.SEN3>,\n",
       " <Item id=S3B_SY_2_VGP____20190603T091620_20190603T095432_20190604T153407_2291_026_093______LN2_O_NT_002.SEN3>,\n",
       " <Item id=S3B_SL_1_RBT____20190603T092000_20190603T092300_20200809T220824_0179_026_093_1800_LR1_R_NT_004.SEN3>,\n",
       " <Item id=S3B_SL_2_LST____20190603T205455_20190603T205755_20200823T143306_0179_026_100_1080_LR1_R_NT_004.SEN3>,\n",
       " <Item id=S3B_SL_2_LST____20190603T192111_20190603T210210_20190605T012408_6059_026_099______LN2_O_NT_003.SEN3>,\n",
       " <Item id=S3B_SR_2_WAT____20190603T183555_20190603T192001_20190629T105414_2645_026_098______MAR_O_NT_003.SEN3>,\n",
       " <Item id=S3B_SR_1_SRA____20190603T183039_20190603T192108_20190628T213002_3029_026_098______LN3_O_NT_003.SEN3>,\n",
       " <Item id=S3B_SR_1_SRA____20190603T183039_20190603T192108_20190604T144052_3029_026_098______LN3_O_ST_003.SEN3>,\n",
       " <Item id=S3B_SR_1_SRA_BS_20190603T183039_20190603T192108_20190604T144052_3029_026_098______LN3_O_ST_003.SEN3>,\n",
       " <Item id=S3B_SR_1_SRA_BS_20190603T183039_20190603T192108_20190628T213002_3029_026_098______LN3_O_NT_003.SEN3>,\n",
       " <Item id=S3B_SR_1_SRA_A__20190603T183039_20190603T192108_20190628T213002_3029_026_098______LN3_O_NT_003.SEN3>,\n",
       " <Item id=S3B_SL_1_RBT____20190603T205455_20190603T205755_20200822T200216_0179_026_100_1080_LR1_R_NT_004.SEN3>,\n",
       " <Item id=S3B_SL_1_RBT____20190603T110100_20190603T110400_20190604T151617_0179_026_094_1800_LN2_O_NT_003.SEN3>,\n",
       " <Item id=S3B_SL_1_RBT____20190603T110100_20190603T110400_20190604T151617_0179_026_094_1800_LN2_O_NT_003.SEN3>,\n",
       " <Item id=S3B_SR_2_WAT____20190603T183555_20190603T192001_20190629T105414_2645_026_098______MAR_O_NT_003.SEN3>,\n",
       " <Item id=S3B_SL_2_WST____20190603T183038_20190603T201138_20190605T043846_6059_026_098______MAR_O_NT_003.SEN3>,\n",
       " <Item id=S3B_SR_1_SRA_BS_20190603T183039_20190603T192108_20190604T144052_3029_026_098______LN3_O_ST_003.SEN3>,\n",
       " <Item id=S3B_SR_1_SRA_A__20190603T183039_20190603T192108_20190604T144052_3029_026_098______LN3_O_ST_003.SEN3>,\n",
       " <Item id=S3B_SR_1_SRA_A__20190603T183039_20190603T192108_20190628T213002_3029_026_098______LN3_O_NT_003.SEN3>,\n",
       " <Item id=S3A_SL_1_RBT____20190603T095937_20190603T100237_20210113T022358_0179_045_236_1800_LR1_R_NT_004.SEN3>,\n",
       " <Item id=S3B_SL_2_LST____20190603T174011_20190603T192111_20190604T234505_6059_026_098______LN2_O_NT_003.SEN3>,\n",
       " <Item id=S3B_SY_2_VG1____20190603T163347_20190604T163347_20190609T165033_EUROPE____________LN2_O_NT_002.SEN3>,\n",
       " <Item id=S3A_SY_2_VGP____20190603T095557_20190603T103410_20190604T170453_2292_045_236______LN2_O_NT_002.SEN3>,\n",
       " <Item id=S3A_SL_2_LST____20190603T181948_20190603T200048_20190605T012923_6059_045_241______LN2_O_NT_003.SEN3>,\n",
       " <Item id=S3B_SL_1_RBT____20190603T092000_20190603T092300_20190604T134149_0179_026_093_1800_LN2_O_NT_003.SEN3>]"
      ]
     },
     "execution_count": 15,
     "metadata": {},
     "output_type": "execute_result"
    }
   ],
   "source": [
    "list(search.items())"
   ]
  },
  {
   "cell_type": "code",
   "execution_count": null,
   "id": "b0c18b84-6991-43c5-8d0e-ee337c1ab6ab",
   "metadata": {},
   "outputs": [],
   "source": []
  }
 ],
 "metadata": {
  "kernelspec": {
   "display_name": "Python 3 (ipykernel)",
   "language": "python",
   "name": "python3"
  },
  "language_info": {
   "codemirror_mode": {
    "name": "ipython",
    "version": 3
   },
   "file_extension": ".py",
   "mimetype": "text/x-python",
   "name": "python",
   "nbconvert_exporter": "python",
   "pygments_lexer": "ipython3",
   "version": "3.12.6"
  }
 },
 "nbformat": 4,
 "nbformat_minor": 5
}
