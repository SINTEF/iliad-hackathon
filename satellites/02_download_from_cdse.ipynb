{
 "cells": [
  {
   "cell_type": "markdown",
   "id": "1465e0cf-d07c-422a-b78b-bf04d819b032",
   "metadata": {},
   "source": [
    "# Download Sentinel-3 products from Copernicus\n",
    "\n",
    "## Introduction\n",
    "\n",
    "Once we know the products we need from our search using STAC (see `01_search_stac_on_cdse.ipynb`), we can download the respective products from the Copernicus Data Space.\n",
    "\n",
    "In thise notebook, we'll show how to\n",
    "\n",
    "1. Get an acccess token\n",
    "2. Get a refresh token\n",
    "3. Download a number of data products\n",
    "\n",
    "To download data, you will need to generate a user.\n",
    "\n",
    "Note that the downloads become a bit slow after a while, probably due to throttling. There is an S3 endpoint that can be used instead, but this is not part of this notebook (yet).\n",
    "\n",
    "Further Reading:\n",
    "\n",
    "1. https://documentation.dataspace.copernicus.eu/Registration.html.\n",
    "2. https://documentation.dataspace.copernicus.eu/APIs/Token.html\n",
    "3. https://documentation.dataspace.copernicus.eu/APIs/OData.html#product-download\n",
    "4. https://documentation.dataspace.copernicus.eu/APIs/S3.html"
   ]
  },
  {
   "cell_type": "markdown",
   "id": "9d14e05f-c16a-4089-8816-eb189cb80828",
   "metadata": {},
   "source": [
    "## Secret Management\n",
    "\n",
    "You will also need a `.env` file to keep your Copernicus Dataspace username and passord, viz.\n",
    "\n",
    "```sh\n",
    "$ cat .env\n",
    "CDSE_USERNAME=user@domain.tld\n",
    "CDSE_PASSWORD=your_password\n",
    "CDSE_CLIENT=cdse-public\n",
    "```"
   ]
  },
  {
   "cell_type": "markdown",
   "id": "be40b8a8-a44b-414e-a770-cb33a4069071",
   "metadata": {},
   "source": [
    "## The Code"
   ]
  },
  {
   "cell_type": "code",
   "execution_count": 1,
   "id": "af5342ad-2a6e-483a-a6e1-a320414864ee",
   "metadata": {},
   "outputs": [
    {
     "name": "stderr",
     "output_type": "stream",
     "text": [
      "/Users/volkerh/miniforge3/envs/iliad/lib/python3.12/site-packages/tqdm/auto.py:21: TqdmWarning: IProgress not found. Please update jupyter and ipywidgets. See https://ipywidgets.readthedocs.io/en/stable/user_install.html\n",
      "  from .autonotebook import tqdm as notebook_tqdm\n"
     ]
    }
   ],
   "source": [
    "import requests\n",
    "import pprint\n",
    "from tqdm.auto import tqdm\n",
    "from dotenv import load_dotenv\n",
    "import os"
   ]
  },
  {
   "cell_type": "code",
   "execution_count": 2,
   "id": "1a504e9f-6eb2-433e-8d4b-0379fdbdae17",
   "metadata": {},
   "outputs": [],
   "source": [
    "load_dotenv()\n",
    "CDSE_USERNAME = os.getenv(\"CDSE_USERNAME\")\n",
    "CDSE_PASSWORD = os.getenv(\"CDSE_PASSWORD\")\n",
    "CDSE_CLIENT = os.getenv(\"CDSE_CLIENT\")\n",
    "# print(CDSE_USERNAME)\n",
    "# print(CDSE_PASSWORD)\n",
    "# print(CDSE_CLIENT)"
   ]
  },
  {
   "cell_type": "code",
   "execution_count": 3,
   "id": "928de657-13e6-44fb-9575-fb071d3a1570",
   "metadata": {},
   "outputs": [],
   "source": [
    "def _get_access_token_and_refresh_token_from_userpass():\n",
    "    # https://documentation.dataspace.copernicus.eu/APIs/OData.html#product-download\n",
    "    # https://documentation.dataspace.copernicus.eu/APIs/Token.html\n",
    "\n",
    "    # curl --location --request POST 'https://identity.dataspace.copernicus.eu/auth/realms/CDSE/protocol/openid-connect/token' \\\n",
    "    #   --header 'Content-Type: application/x-www-form-urlencoded' \\\n",
    "    #   --data-urlencode 'grant_type=password' \\\n",
    "    #   --data-urlencode 'username=<LOGIN>' \\\n",
    "    #   --data-urlencode 'password=<PASSWORD>' \\\n",
    "    #   --data-urlencode 'client_id=cdse-public'\n",
    "    \n",
    "    url = \"https://identity.dataspace.copernicus.eu/auth/realms/CDSE/protocol/openid-connect/token\"\n",
    "    headers = {'Content-Type': 'application/x-www-form-urlencoded'}\n",
    "    data = {'grant_type': 'password',\n",
    "            'username': CDSE_USERNAME,\n",
    "            'password': CDSE_PASSWORD,\n",
    "            'client_id': CDSE_CLIENT}\n",
    "    r = requests.post(url, headers=headers, data=data)\n",
    "    access_token = r.json()['access_token']\n",
    "    refresh_token = r.json()['refresh_token']\n",
    "    return access_token, refresh_token\n",
    "\n",
    "access_token, refresh_token = _get_access_token_and_refresh_token_from_userpass()"
   ]
  },
  {
   "cell_type": "code",
   "execution_count": 4,
   "id": "1b110d68-017c-46c4-81dd-e738b84584cb",
   "metadata": {},
   "outputs": [],
   "source": [
    "def _get_acccess_token_from_refresh_token(refresh_token):\n",
    "    # https://documentation.dataspace.copernicus.eu/APIs/OData.html#product-download\n",
    "    \n",
    "    # curl --location --request POST 'https://identity.dataspace.copernicus.eu/auth/realms/CDSE/protocol/openid-connect/token' \\\n",
    "    #   --header 'Content-Type: application/x-www-form-urlencoded' \\\n",
    "    #   --data-urlencode 'grant_type=refresh_token' \\\n",
    "    #   --data-urlencode 'refresh_token=<REFRESH_TOKEN>' \\\n",
    "    #   --data-urlencode 'client_id=cdse-public'\n",
    "\n",
    "    url = \"https://identity.dataspace.copernicus.eu/auth/realms/CDSE/protocol/openid-connect/token\"\n",
    "    headers = {'Content-Type': 'application/x-www-form-urlencoded'}\n",
    "    data = {'grant_type': 'refresh_token',\n",
    "            'refresh_token': refresh_token,\n",
    "            'client_id': CDSE_CLIENT}\n",
    "    r = requests.post(url, headers=headers, data=data)\n",
    "    access_token = r.json()['access_token']\n",
    "    return access_token\n",
    "\n",
    "access_token = _get_acccess_token_from_refresh_token(refresh_token)"
   ]
  },
  {
   "cell_type": "code",
   "execution_count": 5,
   "id": "ed1eb7b1-d114-4b9b-82cf-58a226561155",
   "metadata": {},
   "outputs": [],
   "source": [
    "def _download_product(url, access_token):\n",
    "    # https://stackoverflow.com/questions/41707229/why-is-tqdm-printing-to-a-newline-instead-of-updating-the-same-line\n",
    "    # https://stackoverflow.com/questions/37573483/progress-bar-while-download-file-over-http-with-requests\n",
    "    # https://documentation.dataspace.copernicus.eu/APIs/OData.html#product-download\n",
    "    \n",
    "    headers = {\"Authorization\": f\"Bearer {access_token}\"}\n",
    "    session = requests.Session()\n",
    "    session.headers.update(headers)\n",
    "    response = session.get(url, headers=headers, stream=True)\n",
    "    if response.status_code != 200:\n",
    "        print(response.status_code)\n",
    "        print(response.headers)\n",
    "        print(response.json())\n",
    "    total_size = int(response.headers.get(\"content-length\", 0))\n",
    "    filename = response.headers.get(\"content-disposition\", 0).split(';')[-1].split('=')[-1]\n",
    "    \n",
    "    with tqdm(total=total_size, unit=\"B\", unit_scale=True, position = 0, leave=True, ascii=False) as progress_bar:\n",
    "        if os.path.exists(filename):\n",
    "            #raise Exception(\"File %s already exists\" % filename)\n",
    "            print(\"File %s already exists... skipping.\" % filename)\n",
    "        else:\n",
    "            with open(filename, \"wb\") as file:\n",
    "                for chunk in response.iter_content(chunk_size=8192):\n",
    "                    progress_bar.update(len(chunk))\n",
    "                    if chunk:\n",
    "                        file.write(chunk)"
   ]
  },
  {
   "cell_type": "code",
   "execution_count": 6,
   "id": "d01a8fb1-4d47-40ee-af6f-3ac772546754",
   "metadata": {},
   "outputs": [
    {
     "name": "stderr",
     "output_type": "stream",
     "text": [
      "100%|██████████████████████████████████████████████████████████████████████████████████████████████████████████████████████████████| 209M/209M [01:43<00:00, 2.02MB/s]\n"
     ]
    }
   ],
   "source": [
    "# url = f\"https://download.dataspace.copernicus.eu/odata/v1/Products(653131b1-e28e-4daa-bad1-c5c6f732b4dd)/$value\"  # s2, 600 mB\n",
    "# url = f\"https://zipper.dataspace.copernicus.eu/odata/v1/Products(a5ab498a-7b2f-4043-ae2a-f95f457e7b3b)/$value\"  # s5p, 3GB\n",
    "# url = f\"https://download.dataspace.copernicus.eu/odata/v1/Products(e260c4fb-6f50-532a-8a44-f62540d05100)/$value\"\n",
    "# url = f\"https://download.dataspace.copernicus.eu/odata/v1/Products(558fc6b7-bc29-5645-844c-ef9486851e8a)/$value\"\n",
    "url = f\"https://download.dataspace.copernicus.eu/odata/v1/Products(5e1c70ab-de2f-543e-a1e2-4a5e4c2569ec)/$value\"  # s3 olci\n",
    "\n",
    "# refresh token\n",
    "access_token = _get_acccess_token_from_refresh_token(refresh_token)\n",
    "_download_product(url, access_token)"
   ]
  }
 ],
 "metadata": {
  "kernelspec": {
   "display_name": "Python 3 (ipykernel)",
   "language": "python",
   "name": "python3"
  },
  "language_info": {
   "codemirror_mode": {
    "name": "ipython",
    "version": 3
   },
   "file_extension": ".py",
   "mimetype": "text/x-python",
   "name": "python",
   "nbconvert_exporter": "python",
   "pygments_lexer": "ipython3",
   "version": "3.12.6"
  }
 },
 "nbformat": 4,
 "nbformat_minor": 5
}
